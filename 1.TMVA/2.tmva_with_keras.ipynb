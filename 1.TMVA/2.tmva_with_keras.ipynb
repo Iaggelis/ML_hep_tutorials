{
 "cells": [
  {
   "cell_type": "markdown",
   "metadata": {},
   "source": [
    "# Classification with TMVA and Keras\n",
    "In this example, we will use the same BDT as before, but with the addition of a neural network with the [Keras](https://keras.io/) deep learning library"
   ]
  },
  {
   "cell_type": "code",
   "execution_count": 1,
   "metadata": {},
   "outputs": [
    {
     "name": "stdout",
     "output_type": "stream",
     "text": [
      "Welcome to JupyROOT 6.14/04\n"
     ]
    }
   ],
   "source": [
    "from ROOT import TMVA, TFile, TTree, TCut\n",
    "from subprocess import call\n",
    "from os.path import isfile"
   ]
  },
  {
   "cell_type": "code",
   "execution_count": 2,
   "metadata": {},
   "outputs": [],
   "source": [
    "# Setup TMVA\n",
    "TMVA.Tools.Instance()\n",
    "TMVA.PyMethodBase.PyInitialize()\n",
    "\n",
    "output = TFile.Open('TMVA.root', 'RECREATE')\n",
    "factory = TMVA.Factory('TMVAClassification', output,\n",
    "                       '!V:!Silent:Color:DrawProgressBar::AnalysisType=Classification')\n"
   ]
  },
  {
   "cell_type": "code",
   "execution_count": 3,
   "metadata": {},
   "outputs": [
    {
     "name": "stdout",
     "output_type": "stream",
     "text": [
      "DataSetInfo              : [dataset] : Added class \"Signal\"\n",
      "                         : Add Tree TreeS of type Signal with 5296 events\n",
      "DataSetInfo              : [dataset] : Added class \"Background\"\n",
      "                         : Add Tree TreeB of type Background with 4703 events\n",
      "                         : Dataset[dataset] : Class index : 0  name : Signal\n",
      "                         : Dataset[dataset] : Class index : 1  name : Background\n"
     ]
    }
   ],
   "source": [
    "data = TFile.Open('../data/higgs_small.root')\n",
    "# data = TFile.Open('../data/higgs.root')\n",
    "signal = data.Get('TreeS')\n",
    "background = data.Get('TreeB')\n",
    "\n",
    "dataloader = TMVA.DataLoader('dataset')\n",
    "for branch in signal.GetListOfBranches():\n",
    "    dataloader.AddVariable(branch.GetName())\n",
    "\n",
    "dataloader.AddSignalTree(signal, 1.0)\n",
    "dataloader.AddBackgroundTree(background, 1.0)\n",
    "dataloader.PrepareTrainingAndTestTree(TCut(''),\n",
    "                                      'nTrain_Signal=300000:nTrain_Background=300000:SplitMode=Random:NormMode=NumEvents:!V')"
   ]
  },
  {
   "cell_type": "markdown",
   "metadata": {},
   "source": [
    "---\n",
    "First, we import the Keras libraries and next we define the neural network. The input shape must be defined and be equal to the number of variables. In this example we have 28 variables"
   ]
  },
  {
   "cell_type": "code",
   "execution_count": 4,
   "metadata": {},
   "outputs": [
    {
     "name": "stderr",
     "output_type": "stream",
     "text": [
      "Using TensorFlow backend.\n"
     ]
    }
   ],
   "source": [
    "from keras import optimizers\n",
    "from keras.models import Sequential, save_model\n",
    "from keras.layers import Dense, Dropout"
   ]
  },
  {
   "cell_type": "code",
   "execution_count": 5,
   "metadata": {},
   "outputs": [
    {
     "name": "stdout",
     "output_type": "stream",
     "text": [
      "_________________________________________________________________\n",
      "Layer (type)                 Output Shape              Param #   \n",
      "=================================================================\n",
      "dense_1 (Dense)              (None, 150)               4350      \n",
      "_________________________________________________________________\n",
      "dense_2 (Dense)              (None, 150)               22650     \n",
      "_________________________________________________________________\n",
      "dense_3 (Dense)              (None, 150)               22650     \n",
      "_________________________________________________________________\n",
      "dropout_1 (Dropout)          (None, 150)               0         \n",
      "_________________________________________________________________\n",
      "dense_4 (Dense)              (None, 2)                 302       \n",
      "=================================================================\n",
      "Total params: 49,952\n",
      "Trainable params: 49,952\n",
      "Non-trainable params: 0\n",
      "_________________________________________________________________\n"
     ]
    },
    {
     "name": "stderr",
     "output_type": "stream",
     "text": [
      "2018-09-06 20:08:51.959651: I tensorflow/core/platform/cpu_feature_guard.cc:141] Your CPU supports instructions that this TensorFlow binary was not compiled to use: SSE4.1 SSE4.2 AVX AVX2 FMA\n",
      "2018-09-06 20:08:51.960727: I tensorflow/core/common_runtime/process_util.cc:69] Creating new thread pool with default inter op setting: 2. Tune using inter_op_parallelism_threads for best performance.\n"
     ]
    }
   ],
   "source": [
    "# Generate model\n",
    "model = Sequential()\n",
    "# Input layer\n",
    "model.add(Dense(150, input_shape=(28,), activation='relu'))\n",
    "# Hidden layers\n",
    "for i in range(2):\n",
    "    model.add(Dense(150, activation='relu'))\n",
    "# Output layer\n",
    "model.add(Dropout(0.5))\n",
    "model.add(Dense(2, activation='softmax'))\n",
    "# Set loss and optimizer\n",
    "model.compile(loss='categorical_crossentropy',\n",
    "              optimizer=optimizers.Adam(), metrics=['accuracy'])\n",
    "\n",
    "# Store model to file\n",
    "model.save('model.h5')\n",
    "# Print model summary (layers,parameters etc)\n",
    "model.summary()"
   ]
  },
  {
   "cell_type": "code",
   "execution_count": 6,
   "metadata": {},
   "outputs": [
    {
     "ename": "TypeError",
     "evalue": "none of the 3 overloaded methods succeeded. Full details:\n  TMVA::MethodBase* TMVA::Factory::BookMethod(TMVA::DataLoader* loader, TString theMethodName, TString methodTitle, TString theOption = \"\") =>\n    could not convert argument 2\n  TMVA::MethodBase* TMVA::Factory::BookMethod(TMVA::DataLoader* loader, TMVA::Types::EMVA theMethod, TString methodTitle, TString theOption = \"\") =>\n    FATAL error (C++ exception of type runtime_error)\n  TMVA::MethodBase* TMVA::Factory::BookMethod(TMVA::DataLoader*, TMVA::Types::EMVA, TString, TString, TMVA::Types::EMVA, TString) =>\n    takes at least 6 arguments (4 given)",
     "output_type": "error",
     "traceback": [
      "\u001b[0;31m---------------------------------------------------------------------------\u001b[0m",
      "\u001b[0;31mTypeError\u001b[0m                                 Traceback (most recent call last)",
      "\u001b[0;32m<ipython-input-6-789dbf9d2f99>\u001b[0m in \u001b[0;36m<module>\u001b[0;34m()\u001b[0m\n\u001b[1;32m      2\u001b[0m                    'H:!V:VarTransform=G,D:FilenameModel=model.h5:NumEpochs=10:BatchSize=64')\n\u001b[1;32m      3\u001b[0m \u001b[0;34m\u001b[0m\u001b[0m\n\u001b[0;32m----> 4\u001b[0;31m \u001b[0mfactory\u001b[0m\u001b[0;34m.\u001b[0m\u001b[0mBookMethod\u001b[0m\u001b[0;34m(\u001b[0m\u001b[0mdataloader\u001b[0m\u001b[0;34m,\u001b[0m \u001b[0mTMVA\u001b[0m\u001b[0;34m.\u001b[0m\u001b[0mTypes\u001b[0m\u001b[0;34m.\u001b[0m\u001b[0mkBDT\u001b[0m\u001b[0;34m,\u001b[0m \u001b[0;34m'BDT'\u001b[0m\u001b[0;34m,\u001b[0m\u001b[0;34m'!H:!V:VarTransform=G,D:NTrees=800:MaxDepth=3:nCuts=20'\u001b[0m\u001b[0;34m)\u001b[0m\u001b[0;34m\u001b[0m\u001b[0m\n\u001b[0m",
      "\u001b[0;31mTypeError\u001b[0m: none of the 3 overloaded methods succeeded. Full details:\n  TMVA::MethodBase* TMVA::Factory::BookMethod(TMVA::DataLoader* loader, TString theMethodName, TString methodTitle, TString theOption = \"\") =>\n    could not convert argument 2\n  TMVA::MethodBase* TMVA::Factory::BookMethod(TMVA::DataLoader* loader, TMVA::Types::EMVA theMethod, TString methodTitle, TString theOption = \"\") =>\n    FATAL error (C++ exception of type runtime_error)\n  TMVA::MethodBase* TMVA::Factory::BookMethod(TMVA::DataLoader*, TMVA::Types::EMVA, TString, TString, TMVA::Types::EMVA, TString) =>\n    takes at least 6 arguments (4 given)"
     ]
    },
    {
     "name": "stdout",
     "output_type": "stream",
     "text": [
      "Factory                  : Booking method: \u001b[1mDNN\u001b[0m\n",
      "                         : \n",
      "DNN                      : [dataset] : Create Transformation \"G\" with events from all classes.\n",
      "                         : \n",
      "                         : Transformation, Variable selection : \n",
      "                         : Input : variable 'lepton_pT' <---> Output : variable 'lepton_pT'\n",
      "                         : Input : variable 'lepton_eta' <---> Output : variable 'lepton_eta'\n",
      "                         : Input : variable 'lepton_phi' <---> Output : variable 'lepton_phi'\n",
      "                         : Input : variable 'missing_energy_magnitude' <---> Output : variable 'missing_energy_magnitude'\n",
      "                         : Input : variable 'missing_energy_phi' <---> Output : variable 'missing_energy_phi'\n",
      "                         : Input : variable 'jet_1_pt' <---> Output : variable 'jet_1_pt'\n",
      "                         : Input : variable 'jet_1_eta' <---> Output : variable 'jet_1_eta'\n",
      "                         : Input : variable 'jet_1_phi' <---> Output : variable 'jet_1_phi'\n",
      "                         : Input : variable 'jet_1_b_tag' <---> Output : variable 'jet_1_b_tag'\n",
      "                         : Input : variable 'jet_2_pt' <---> Output : variable 'jet_2_pt'\n",
      "                         : Input : variable 'jet_2_eta' <---> Output : variable 'jet_2_eta'\n",
      "                         : Input : variable 'jet_2_phi' <---> Output : variable 'jet_2_phi'\n",
      "                         : Input : variable 'jet_2_b_tag' <---> Output : variable 'jet_2_b_tag'\n",
      "                         : Input : variable 'jet_3_pt' <---> Output : variable 'jet_3_pt'\n",
      "                         : Input : variable 'jet_3_eta' <---> Output : variable 'jet_3_eta'\n",
      "                         : Input : variable 'jet_3_phi' <---> Output : variable 'jet_3_phi'\n",
      "                         : Input : variable 'jet_3_b_tag' <---> Output : variable 'jet_3_b_tag'\n",
      "                         : Input : variable 'jet_4_pt' <---> Output : variable 'jet_4_pt'\n",
      "                         : Input : variable 'jet_4_eta' <---> Output : variable 'jet_4_eta'\n",
      "                         : Input : variable 'jet_4_phi' <---> Output : variable 'jet_4_phi'\n",
      "                         : Input : variable 'jet_4_b_tag' <---> Output : variable 'jet_4_b_tag'\n",
      "                         : Input : variable 'm_jj' <---> Output : variable 'm_jj'\n",
      "                         : Input : variable 'm_jjj' <---> Output : variable 'm_jjj'\n",
      "                         : Input : variable 'm_lv' <---> Output : variable 'm_lv'\n",
      "                         : Input : variable 'm_jlv' <---> Output : variable 'm_jlv'\n",
      "                         : Input : variable 'm_bb' <---> Output : variable 'm_bb'\n",
      "                         : Input : variable 'm_wbb' <---> Output : variable 'm_wbb'\n",
      "                         : Input : variable 'm_wwbb' <---> Output : variable 'm_wwbb'\n",
      "DNN                      : [dataset] : Create Transformation \"D\" with events from all classes.\n",
      "                         : \n",
      "                         : Transformation, Variable selection : \n",
      "                         : Input : variable 'lepton_pT' <---> Output : variable 'lepton_pT'\n",
      "                         : Input : variable 'lepton_eta' <---> Output : variable 'lepton_eta'\n",
      "                         : Input : variable 'lepton_phi' <---> Output : variable 'lepton_phi'\n",
      "                         : Input : variable 'missing_energy_magnitude' <---> Output : variable 'missing_energy_magnitude'\n",
      "                         : Input : variable 'missing_energy_phi' <---> Output : variable 'missing_energy_phi'\n",
      "                         : Input : variable 'jet_1_pt' <---> Output : variable 'jet_1_pt'\n",
      "                         : Input : variable 'jet_1_eta' <---> Output : variable 'jet_1_eta'\n",
      "                         : Input : variable 'jet_1_phi' <---> Output : variable 'jet_1_phi'\n",
      "                         : Input : variable 'jet_1_b_tag' <---> Output : variable 'jet_1_b_tag'\n",
      "                         : Input : variable 'jet_2_pt' <---> Output : variable 'jet_2_pt'\n",
      "                         : Input : variable 'jet_2_eta' <---> Output : variable 'jet_2_eta'\n",
      "                         : Input : variable 'jet_2_phi' <---> Output : variable 'jet_2_phi'\n",
      "                         : Input : variable 'jet_2_b_tag' <---> Output : variable 'jet_2_b_tag'\n",
      "                         : Input : variable 'jet_3_pt' <---> Output : variable 'jet_3_pt'\n",
      "                         : Input : variable 'jet_3_eta' <---> Output : variable 'jet_3_eta'\n",
      "                         : Input : variable 'jet_3_phi' <---> Output : variable 'jet_3_phi'\n",
      "                         : Input : variable 'jet_3_b_tag' <---> Output : variable 'jet_3_b_tag'\n",
      "                         : Input : variable 'jet_4_pt' <---> Output : variable 'jet_4_pt'\n",
      "                         : Input : variable 'jet_4_eta' <---> Output : variable 'jet_4_eta'\n",
      "                         : Input : variable 'jet_4_phi' <---> Output : variable 'jet_4_phi'\n",
      "                         : Input : variable 'jet_4_b_tag' <---> Output : variable 'jet_4_b_tag'\n",
      "                         : Input : variable 'm_jj' <---> Output : variable 'm_jj'\n",
      "                         : Input : variable 'm_jjj' <---> Output : variable 'm_jjj'\n",
      "                         : Input : variable 'm_lv' <---> Output : variable 'm_lv'\n",
      "                         : Input : variable 'm_jlv' <---> Output : variable 'm_jlv'\n",
      "                         : Input : variable 'm_bb' <---> Output : variable 'm_bb'\n",
      "                         : Input : variable 'm_wbb' <---> Output : variable 'm_wbb'\n",
      "                         : Input : variable 'm_wwbb' <---> Output : variable 'm_wwbb'\n",
      "                         : Load model from file: model.h5\n",
      "Factory                  : Booking method: \u001b[1mBDT\u001b[0m\n",
      "                         : \n",
      "BDT                      : [dataset] : Create Transformation \"G\" with events from all classes.\n",
      "                         : \n",
      "                         : Transformation, Variable selection : \n",
      "                         : Input : variable 'lepton_pT' <---> Output : variable 'lepton_pT'\n",
      "                         : Input : variable 'lepton_eta' <---> Output : variable 'lepton_eta'\n",
      "                         : Input : variable 'lepton_phi' <---> Output : variable 'lepton_phi'\n",
      "                         : Input : variable 'missing_energy_magnitude' <---> Output : variable 'missing_energy_magnitude'\n",
      "                         : Input : variable 'missing_energy_phi' <---> Output : variable 'missing_energy_phi'\n",
      "                         : Input : variable 'jet_1_pt' <---> Output : variable 'jet_1_pt'\n",
      "                         : Input : variable 'jet_1_eta' <---> Output : variable 'jet_1_eta'\n",
      "                         : Input : variable 'jet_1_phi' <---> Output : variable 'jet_1_phi'\n",
      "                         : Input : variable 'jet_1_b_tag' <---> Output : variable 'jet_1_b_tag'\n",
      "                         : Input : variable 'jet_2_pt' <---> Output : variable 'jet_2_pt'\n",
      "                         : Input : variable 'jet_2_eta' <---> Output : variable 'jet_2_eta'\n",
      "                         : Input : variable 'jet_2_phi' <---> Output : variable 'jet_2_phi'\n",
      "                         : Input : variable 'jet_2_b_tag' <---> Output : variable 'jet_2_b_tag'\n",
      "                         : Input : variable 'jet_3_pt' <---> Output : variable 'jet_3_pt'\n",
      "                         : Input : variable 'jet_3_eta' <---> Output : variable 'jet_3_eta'\n",
      "                         : Input : variable 'jet_3_phi' <---> Output : variable 'jet_3_phi'\n",
      "                         : Input : variable 'jet_3_b_tag' <---> Output : variable 'jet_3_b_tag'\n",
      "                         : Input : variable 'jet_4_pt' <---> Output : variable 'jet_4_pt'\n",
      "                         : Input : variable 'jet_4_eta' <---> Output : variable 'jet_4_eta'\n",
      "                         : Input : variable 'jet_4_phi' <---> Output : variable 'jet_4_phi'\n",
      "                         : Input : variable 'jet_4_b_tag' <---> Output : variable 'jet_4_b_tag'\n",
      "                         : Input : variable 'm_jj' <---> Output : variable 'm_jj'\n",
      "                         : Input : variable 'm_jjj' <---> Output : variable 'm_jjj'\n",
      "                         : Input : variable 'm_lv' <---> Output : variable 'm_lv'\n",
      "                         : Input : variable 'm_jlv' <---> Output : variable 'm_jlv'\n",
      "                         : Input : variable 'm_bb' <---> Output : variable 'm_bb'\n",
      "                         : Input : variable 'm_wbb' <---> Output : variable 'm_wbb'\n",
      "                         : Input : variable 'm_wwbb' <---> Output : variable 'm_wwbb'\n",
      "BDT                      : [dataset] : Create Transformation \"D\" with events from all classes.\n",
      "                         : \n",
      "                         : Transformation, Variable selection : \n",
      "                         : Input : variable 'lepton_pT' <---> Output : variable 'lepton_pT'\n",
      "                         : Input : variable 'lepton_eta' <---> Output : variable 'lepton_eta'\n",
      "                         : Input : variable 'lepton_phi' <---> Output : variable 'lepton_phi'\n",
      "                         : Input : variable 'missing_energy_magnitude' <---> Output : variable 'missing_energy_magnitude'\n",
      "                         : Input : variable 'missing_energy_phi' <---> Output : variable 'missing_energy_phi'\n",
      "                         : Input : variable 'jet_1_pt' <---> Output : variable 'jet_1_pt'\n",
      "                         : Input : variable 'jet_1_eta' <---> Output : variable 'jet_1_eta'\n",
      "                         : Input : variable 'jet_1_phi' <---> Output : variable 'jet_1_phi'\n",
      "                         : Input : variable 'jet_1_b_tag' <---> Output : variable 'jet_1_b_tag'\n",
      "                         : Input : variable 'jet_2_pt' <---> Output : variable 'jet_2_pt'\n",
      "                         : Input : variable 'jet_2_eta' <---> Output : variable 'jet_2_eta'\n",
      "                         : Input : variable 'jet_2_phi' <---> Output : variable 'jet_2_phi'\n",
      "                         : Input : variable 'jet_2_b_tag' <---> Output : variable 'jet_2_b_tag'\n",
      "                         : Input : variable 'jet_3_pt' <---> Output : variable 'jet_3_pt'\n",
      "                         : Input : variable 'jet_3_eta' <---> Output : variable 'jet_3_eta'\n",
      "                         : Input : variable 'jet_3_phi' <---> Output : variable 'jet_3_phi'\n",
      "                         : Input : variable 'jet_3_b_tag' <---> Output : variable 'jet_3_b_tag'\n",
      "                         : Input : variable 'jet_4_pt' <---> Output : variable 'jet_4_pt'\n",
      "                         : Input : variable 'jet_4_eta' <---> Output : variable 'jet_4_eta'\n",
      "                         : Input : variable 'jet_4_phi' <---> Output : variable 'jet_4_phi'\n",
      "                         : Input : variable 'jet_4_b_tag' <---> Output : variable 'jet_4_b_tag'\n",
      "                         : Input : variable 'm_jj' <---> Output : variable 'm_jj'\n",
      "                         : Input : variable 'm_jjj' <---> Output : variable 'm_jjj'\n",
      "                         : Input : variable 'm_lv' <---> Output : variable 'm_lv'\n",
      "                         : Input : variable 'm_jlv' <---> Output : variable 'm_jlv'\n",
      "                         : Input : variable 'm_bb' <---> Output : variable 'm_bb'\n",
      "                         : Input : variable 'm_wbb' <---> Output : variable 'm_wbb'\n",
      "                         : Input : variable 'm_wwbb' <---> Output : variable 'm_wwbb'\n",
      "DataSetFactory           : [dataset] : Number of events in input trees\n",
      "                         : \n",
      "\u001b[37;41;1m<FATAL>                         : Dataset[dataset] : More events requested for training (300000) than available (5296)!\u001b[0m\n",
      "***> abort program execution\n",
      "Factory                  : Booking method: \u001b[1mBDT\u001b[0m\n",
      "                         : \n",
      "BDT                      : [dataset] : Create Transformation \"G\" with events from all classes.\n",
      "                         : \n",
      "                         : Transformation, Variable selection : \n",
      "                         : Input : variable 'lepton_pT' <---> Output : variable 'lepton_pT'\n",
      "                         : Input : variable 'lepton_eta' <---> Output : variable 'lepton_eta'\n",
      "                         : Input : variable 'lepton_phi' <---> Output : variable 'lepton_phi'\n",
      "                         : Input : variable 'missing_energy_magnitude' <---> Output : variable 'missing_energy_magnitude'\n",
      "                         : Input : variable 'missing_energy_phi' <---> Output : variable 'missing_energy_phi'\n",
      "                         : Input : variable 'jet_1_pt' <---> Output : variable 'jet_1_pt'\n",
      "                         : Input : variable 'jet_1_eta' <---> Output : variable 'jet_1_eta'\n",
      "                         : Input : variable 'jet_1_phi' <---> Output : variable 'jet_1_phi'\n",
      "                         : Input : variable 'jet_1_b_tag' <---> Output : variable 'jet_1_b_tag'\n",
      "                         : Input : variable 'jet_2_pt' <---> Output : variable 'jet_2_pt'\n",
      "                         : Input : variable 'jet_2_eta' <---> Output : variable 'jet_2_eta'\n",
      "                         : Input : variable 'jet_2_phi' <---> Output : variable 'jet_2_phi'\n",
      "                         : Input : variable 'jet_2_b_tag' <---> Output : variable 'jet_2_b_tag'\n",
      "                         : Input : variable 'jet_3_pt' <---> Output : variable 'jet_3_pt'\n",
      "                         : Input : variable 'jet_3_eta' <---> Output : variable 'jet_3_eta'\n",
      "                         : Input : variable 'jet_3_phi' <---> Output : variable 'jet_3_phi'\n",
      "                         : Input : variable 'jet_3_b_tag' <---> Output : variable 'jet_3_b_tag'\n",
      "                         : Input : variable 'jet_4_pt' <---> Output : variable 'jet_4_pt'\n",
      "                         : Input : variable 'jet_4_eta' <---> Output : variable 'jet_4_eta'\n",
      "                         : Input : variable 'jet_4_phi' <---> Output : variable 'jet_4_phi'\n",
      "                         : Input : variable 'jet_4_b_tag' <---> Output : variable 'jet_4_b_tag'\n",
      "                         : Input : variable 'm_jj' <---> Output : variable 'm_jj'\n",
      "                         : Input : variable 'm_jjj' <---> Output : variable 'm_jjj'\n",
      "                         : Input : variable 'm_lv' <---> Output : variable 'm_lv'\n",
      "                         : Input : variable 'm_jlv' <---> Output : variable 'm_jlv'\n",
      "                         : Input : variable 'm_bb' <---> Output : variable 'm_bb'\n",
      "                         : Input : variable 'm_wbb' <---> Output : variable 'm_wbb'\n",
      "                         : Input : variable 'm_wwbb' <---> Output : variable 'm_wwbb'\n",
      "BDT                      : [dataset] : Create Transformation \"D\" with events from all classes.\n",
      "                         : \n",
      "                         : Transformation, Variable selection : \n",
      "                         : Input : variable 'lepton_pT' <---> Output : variable 'lepton_pT'\n",
      "                         : Input : variable 'lepton_eta' <---> Output : variable 'lepton_eta'\n",
      "                         : Input : variable 'lepton_phi' <---> Output : variable 'lepton_phi'\n",
      "                         : Input : variable 'missing_energy_magnitude' <---> Output : variable 'missing_energy_magnitude'\n",
      "                         : Input : variable 'missing_energy_phi' <---> Output : variable 'missing_energy_phi'\n",
      "                         : Input : variable 'jet_1_pt' <---> Output : variable 'jet_1_pt'\n",
      "                         : Input : variable 'jet_1_eta' <---> Output : variable 'jet_1_eta'\n",
      "                         : Input : variable 'jet_1_phi' <---> Output : variable 'jet_1_phi'\n",
      "                         : Input : variable 'jet_1_b_tag' <---> Output : variable 'jet_1_b_tag'\n",
      "                         : Input : variable 'jet_2_pt' <---> Output : variable 'jet_2_pt'\n",
      "                         : Input : variable 'jet_2_eta' <---> Output : variable 'jet_2_eta'\n",
      "                         : Input : variable 'jet_2_phi' <---> Output : variable 'jet_2_phi'\n",
      "                         : Input : variable 'jet_2_b_tag' <---> Output : variable 'jet_2_b_tag'\n",
      "                         : Input : variable 'jet_3_pt' <---> Output : variable 'jet_3_pt'\n",
      "                         : Input : variable 'jet_3_eta' <---> Output : variable 'jet_3_eta'\n",
      "                         : Input : variable 'jet_3_phi' <---> Output : variable 'jet_3_phi'\n",
      "                         : Input : variable 'jet_3_b_tag' <---> Output : variable 'jet_3_b_tag'\n",
      "                         : Input : variable 'jet_4_pt' <---> Output : variable 'jet_4_pt'\n",
      "                         : Input : variable 'jet_4_eta' <---> Output : variable 'jet_4_eta'\n",
      "                         : Input : variable 'jet_4_phi' <---> Output : variable 'jet_4_phi'\n",
      "                         : Input : variable 'jet_4_b_tag' <---> Output : variable 'jet_4_b_tag'\n",
      "                         : Input : variable 'm_jj' <---> Output : variable 'm_jj'\n",
      "                         : Input : variable 'm_jjj' <---> Output : variable 'm_jjj'\n",
      "                         : Input : variable 'm_lv' <---> Output : variable 'm_lv'\n",
      "                         : Input : variable 'm_jlv' <---> Output : variable 'm_jlv'\n",
      "                         : Input : variable 'm_bb' <---> Output : variable 'm_bb'\n",
      "                         : Input : variable 'm_wbb' <---> Output : variable 'm_wbb'\n",
      "                         : Input : variable 'm_wwbb' <---> Output : variable 'm_wwbb'\n",
      "DataSetFactory           : [dataset] : Number of events in input trees\n",
      "                         : \n",
      "\u001b[37;41;1m<FATAL>                         : Dataset[dataset] : More events requested for training (300000) than available (5296)!\u001b[0m\n",
      "***> abort program execution\n"
     ]
    }
   ],
   "source": [
    "factory.BookMethod(dataloader, TMVA.Types.kPyKeras, 'DNN',\n",
    "                   'H:!V:VarTransform=G,D:FilenameModel=model.h5:NumEpochs=10:BatchSize=64')\n",
    "\n",
    "factory.BookMethod(dataloader, TMVA.Types.kBDT, 'BDT','!H:!V:VarTransform=G,D:NTrees=800:MaxDepth=3:nCuts=20')"
   ]
  },
  {
   "cell_type": "code",
   "execution_count": 7,
   "metadata": {},
   "outputs": [
    {
     "ename": "Exception",
     "evalue": "void TMVA::Factory::TrainAllMethods() =>\n    FATAL error (C++ exception of type runtime_error)",
     "output_type": "error",
     "traceback": [
      "\u001b[0;31m---------------------------------------------------------------------------\u001b[0m",
      "\u001b[0;31mException\u001b[0m                                 Traceback (most recent call last)",
      "\u001b[0;32m<ipython-input-7-99d71166558d>\u001b[0m in \u001b[0;36m<module>\u001b[0;34m()\u001b[0m\n\u001b[1;32m      1\u001b[0m \u001b[0;31m# Run training, test and evaluation\u001b[0m\u001b[0;34m\u001b[0m\u001b[0;34m\u001b[0m\u001b[0m\n\u001b[0;32m----> 2\u001b[0;31m \u001b[0mfactory\u001b[0m\u001b[0;34m.\u001b[0m\u001b[0mTrainAllMethods\u001b[0m\u001b[0;34m(\u001b[0m\u001b[0;34m)\u001b[0m\u001b[0;34m\u001b[0m\u001b[0m\n\u001b[0m\u001b[1;32m      3\u001b[0m \u001b[0mfactory\u001b[0m\u001b[0;34m.\u001b[0m\u001b[0mTestAllMethods\u001b[0m\u001b[0;34m(\u001b[0m\u001b[0;34m)\u001b[0m\u001b[0;34m\u001b[0m\u001b[0m\n\u001b[1;32m      4\u001b[0m \u001b[0mfactory\u001b[0m\u001b[0;34m.\u001b[0m\u001b[0mEvaluateAllMethods\u001b[0m\u001b[0;34m(\u001b[0m\u001b[0;34m)\u001b[0m\u001b[0;34m\u001b[0m\u001b[0m\n",
      "\u001b[0;31mException\u001b[0m: void TMVA::Factory::TrainAllMethods() =>\n    FATAL error (C++ exception of type runtime_error)"
     ]
    },
    {
     "name": "stdout",
     "output_type": "stream",
     "text": [
      "Factory                  : \u001b[1mTrain all methods\u001b[0m\n",
      "DataSetFactory           : [dataset] : Number of events in input trees\n",
      "                         : \n",
      "\u001b[37;41;1m<FATAL>                         : Dataset[dataset] : More events requested for training (300000) than available (5296)!\u001b[0m\n",
      "***> abort program execution\n"
     ]
    }
   ],
   "source": [
    "# Run training, test and evaluation\n",
    "factory.TrainAllMethods()\n",
    "factory.TestAllMethods()\n",
    "factory.EvaluateAllMethods()\n"
   ]
  },
  {
   "cell_type": "code",
   "execution_count": null,
   "metadata": {},
   "outputs": [],
   "source": []
  }
 ],
 "metadata": {
  "kernelspec": {
   "display_name": "Python 3",
   "language": "python",
   "name": "python3"
  },
  "language_info": {
   "codemirror_mode": {
    "name": "ipython",
    "version": 3
   },
   "file_extension": ".py",
   "mimetype": "text/x-python",
   "name": "python",
   "nbconvert_exporter": "python",
   "pygments_lexer": "ipython3",
   "version": "3.6.6"
  }
 },
 "nbformat": 4,
 "nbformat_minor": 2
}
